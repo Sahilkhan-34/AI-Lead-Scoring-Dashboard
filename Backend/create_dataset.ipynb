{
 "cells": [
  {
   "cell_type": "code",
   "execution_count": 7,
   "id": "1cae003c",
   "metadata": {},
   "outputs": [],
   "source": [
    "import matplotlib.pyplot as plt\n",
    "import pandas as pd\n",
    "import numpy as np\n",
    "import random"
   ]
  },
  {
   "cell_type": "code",
   "execution_count": null,
   "id": "f652c65b",
   "metadata": {},
   "outputs": [
    {
     "name": "stdout",
     "output_type": "stream",
     "text": [
      "Dataset 'lead_data.csv' created successfully with 10000 rows.\n"
     ]
    }
   ],
   "source": [
    "# Number of records\n",
    "num_rows = 10000\n",
    "\n",
    "# Define possible values\n",
    "age_groups = [\"18-25\", \"26-35\", \"36-50\", \"51+\"]\n",
    "family_backgrounds = [\"Single\", \"Married\", \"Married with Kids\"]\n",
    "comments_positive = [\"looking for a quote urgently\", \"need this asap\", \"very interested\", \"call me back\", \"ready to proceed\"]\n",
    "comments_negative = [\"not interested\", \"wrong number\", \"just browsing\", \"do not contact\", \"unsubscribe\"]\n",
    "comments_neutral = [\"\", \"need more info\", \"what are the rates?\"]\n",
    "\n",
    "# Generate data\n",
    "data = {\n",
    "    \"Email\": [f\"user{i}@test.com\" for i in range(num_rows)],\n",
    "    \"PhoneNumber\": [f\"+91-9{random.randint(100000000, 999999999)}\" for _ in range(num_rows)],\n",
    "    \"CreditScore\": np.random.randint(300, 851, size=num_rows),\n",
    "    \"AgeGroup\": np.random.choice(age_groups, size=num_rows, p=[0.2, 0.3, 0.3, 0.2]),\n",
    "    \"FamilyBackground\": np.random.choice(family_backgrounds, size=num_rows, p=[0.3, 0.4, 0.3]),\n",
    "    \"Income\": np.random.randint(100000, 1000001, size=num_rows),\n",
    "    \"Comments\": [\"\"] * num_rows,\n",
    "    \"Intent\": [0] * num_rows\n",
    "}\n",
    "\n",
    "df = pd.DataFrame(data)\n",
    "\n",
    "# Input validation\n",
    "if not (300 <= df['CreditScore'].min() <= df['CreditScore'].max() <= 850):\n",
    "    raise ValueError(\"Credit scores must be between 300 and 850\")\n",
    "    \n",
    "if (df['Income'] < 0).any():\n",
    "    raise ValueError(\"Income cannot be negative\")\n",
    "\n",
    "# Create logical relationships for the \"Intent\" target variable\n",
    "# Higher intent for higher scores, income, and certain demographics\n",
    "intent_probability = (df['CreditScore'] / 850 + df['Income'] / 1000000) / 2\n",
    "# Adjust probability based on age and family\n",
    "intent_probability[df['AgeGroup'] == '36-50'] += 0.1\n",
    "intent_probability[df['FamilyBackground'] == 'Married with Kids'] += 0.1\n",
    "intent_probability[df['CreditScore'] < 500] -= 0.15\n",
    "\n",
    "# Normalize intent probability to [0,1] range\n",
    "intent_probability = (intent_probability - intent_probability.min()) / (intent_probability.max() - intent_probability.min())\n",
    "\n",
    "# Assign intent based on probability\n",
    "df['Intent'] = (np.random.rand(num_rows) < intent_probability).astype(int)\n",
    "\n",
    "# Sprinkle in comments based on intent\n",
    "positive_indices = df[df['Intent'] == 1].index\n",
    "negative_indices = df[df['Intent'] == 0].index\n",
    "\n",
    "for i in np.random.choice(positive_indices, size=int(len(positive_indices) * 0.2), replace=False):\n",
    "    df.at[i, 'Comments'] = random.choice(comments_positive)\n",
    "    \n",
    "for i in np.random.choice(negative_indices, size=int(len(negative_indices) * 0.2), replace=False):\n",
    "    df.at[i, 'Comments'] = random.choice(comments_negative)\n",
    "\n",
    "# Save to CSV\n",
    "df.to_csv(\"lead_data.csv\", index=False)\n",
    "\n",
    "print(\"Dataset 'lead_data.csv' created successfully with 10000 rows.\")"
   ]
  },
  {
   "cell_type": "code",
   "execution_count": 2,
   "id": "33be8fcd",
   "metadata": {},
   "outputs": [
    {
     "name": "stdout",
     "output_type": "stream",
     "text": [
      "            Email     PhoneNumber  CreditScore AgeGroup   FamilyBackground  \\\n",
      "0  user0@test.com  +91-9728437996          779    36-50            Married   \n",
      "1  user1@test.com  +91-9674400250          438    18-25  Married with Kids   \n",
      "2  user2@test.com  +91-9557698406          399    18-25  Married with Kids   \n",
      "3  user3@test.com  +91-9553656666          719    36-50  Married with Kids   \n",
      "4  user4@test.com  +91-9811587831          721    26-35  Married with Kids   \n",
      "\n",
      "   Income        Comments  Intent  \n",
      "0  980072             NaN       1  \n",
      "1  905386             NaN       1  \n",
      "2  710617             NaN       0  \n",
      "3  176484  need this asap       1  \n",
      "4  324641    call me back       1  \n"
     ]
    }
   ],
   "source": [
    "df = pd.read_csv(\"lead_data.csv\")\n",
    "print(df.head())"
   ]
  },
  {
   "cell_type": "code",
   "execution_count": null,
   "id": "1d9f79aa",
   "metadata": {},
   "outputs": [
    {
     "data": {
      "text/plain": [
       "Comments\n",
       "do not contact                  210\n",
       "unsubscribe                     209\n",
       "wrong number                    201\n",
       "need this asap                  201\n",
       "just browsing                   201\n",
       "not interested                  200\n",
       "call me back                    199\n",
       "ready to proceed                197\n",
       "very interested                 194\n",
       "looking for a quote urgently    187\n",
       "Name: count, dtype: int64"
      ]
     },
     "execution_count": 3,
     "metadata": {},
     "output_type": "execute_result"
    }
   ],
   "source": [
    "df['Comments'].value_counts()\n"
   ]
  },
  {
   "cell_type": "code",
   "execution_count": 4,
   "id": "4b931e63",
   "metadata": {},
   "outputs": [
    {
     "data": {
      "text/plain": [
       "FamilyBackground\n",
       "Married              3925\n",
       "Married with Kids    3043\n",
       "Single               3032\n",
       "Name: count, dtype: int64"
      ]
     },
     "execution_count": 4,
     "metadata": {},
     "output_type": "execute_result"
    }
   ],
   "source": [
    "df['FamilyBackground'].value_counts()"
   ]
  },
  {
   "cell_type": "code",
   "execution_count": 5,
   "id": "076e2bfb",
   "metadata": {},
   "outputs": [
    {
     "data": {
      "text/plain": [
       "AgeGroup\n",
       "36-50    3002\n",
       "26-35    2974\n",
       "51+      2064\n",
       "18-25    1960\n",
       "Name: count, dtype: int64"
      ]
     },
     "execution_count": 5,
     "metadata": {},
     "output_type": "execute_result"
    }
   ],
   "source": [
    "df['AgeGroup'].value_counts()"
   ]
  },
  {
   "cell_type": "code",
   "execution_count": 8,
   "id": "a0c8b518",
   "metadata": {},
   "outputs": [
    {
     "data": {
      "image/png": "[encoded data removed]",
      "text/plain": [
       "<Figure size 640x480 with 1 Axes>"
      ]
     },
     "metadata": {},
     "output_type": "display_data"
    }
   ],
   "source": [
    "df['Intent'].value_counts().plot(kind='bar', title='Intent Distribution')\n",
    "import matplotlib.pyplot as plt"
   ]
  },
  {
   "cell_type": "code",
   "execution_count": 1,
   "id": "3ded4a1d",
   "metadata": {},
   "outputs": [],
   "source": [
    "# Data Generation and Visualization Complete"
   ]
  },
  {
   "cell_type": "code",
   "execution_count": null,
   "id": "ed7a4541",
   "metadata": {},
   "outputs": [],
   "source": []
  },
  {
   "cell_type": "code",
   "execution_count": null,
   "id": "da77c21b",
   "metadata": {},
   "outputs": [],
   "source": []
  }
 ],
 "metadata": {
  "kernelspec": {
   "display_name": "Python 3",
   "language": "python",
   "name": "python3"
  },
  "language_info": {
   "codemirror_mode": {
    "name": "ipython",
    "version": 3
   },
   "file_extension": ".py",
   "mimetype": "text/x-python",
   "name": "python",
   "nbconvert_exporter": "python",
   "pygments_lexer": "ipython3",
   "version": "3.13.5"
  }
 },
 "nbformat": 4,
 "nbformat_minor": 5
}
